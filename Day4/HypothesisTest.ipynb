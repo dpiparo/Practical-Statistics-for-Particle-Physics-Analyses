{
 "cells": [
  {
   "cell_type": "markdown",
   "metadata": {},
   "source": [
    "## Hypothesis Test Example\n",
    "\n",
    "This notebook performs an hypothesis test and computes the significance of the test (p-value) using the asympotic approximation of the profile likelihood function.\n",
    "\n",
    "The test statistics for computing the hypothesis test is \n",
    "\n",
    "$$q_\\mu = - 2 \\log \\frac { L( x \\ | \\ \\mu , \\hat{\\hat{\\nu} } ) }{  L( x \\ | \\ \\hat{\\mu} , \\hat{\\nu}  ) } \\  \\  \\ \\mathrm{for} \\  \\  \n",
    "\\hat{\\mu}  >  0$$\n",
    "$$q_\\mu = 0     \\hspace{3cm}     \\ \\mathrm{for} \\  \\  \n",
    "\\hat{\\mu} \\le  0$$\n",
    "\n",
    "The p-value (significance) of the test is computed assuming that $q_\\mu$ is distributed according to a 1/2 $\\chi^2$ distribution with 1 degree of freedom.\n",
    "\n"
   ]
  },
  {
   "cell_type": "code",
   "execution_count": null,
   "metadata": {
    "collapsed": true
   },
   "outputs": [],
   "source": [
    "//%jsroot on"
   ]
  },
  {
   "cell_type": "code",
   "execution_count": null,
   "metadata": {
    "collapsed": true
   },
   "outputs": [],
   "source": [
    "using namespace RooStats;"
   ]
  },
  {
   "cell_type": "code",
   "execution_count": null,
   "metadata": {
    "collapsed": false
   },
   "outputs": [],
   "source": [
    "RooPlot * plot = nullptr;\n",
    "RooAbsPdf * pdf = nullptr;\n",
    "HypoTestResult * result = nullptr;\n",
    "// enable use of NLL offset for better minimizations\n",
    "RooStats::UseNLLOffset(true);"
   ]
  },
  {
   "cell_type": "markdown",
   "metadata": {},
   "source": [
    "####  1. Reading the model (Workspace) from input file\n",
    "\n",
    "First part is just to access the workspace file and retrieve the model and the data "
   ]
  },
  {
   "cell_type": "code",
   "execution_count": null,
   "metadata": {
    "collapsed": false
   },
   "outputs": [],
   "source": [
    "TString fileName =\"HiggsBinModel.root\";  \n",
    "//TString fileName =\"CountingModel.root\";  \n",
    "TString workspaceName = \"w\";\n",
    "TString modelConfigName = \"ModelConfig\";\n",
    "TString dataName = \"data\";\n",
    "TString integrationType = \"\";  \n",
    "//ROOT::Math::MinimizerOptions::SetDefaultMinimizer(\"Minuit2\");\n",
    "\n",
    "nexp_events = 250;  // number of expected events for the expected significance"
   ]
  },
  {
   "cell_type": "code",
   "execution_count": null,
   "metadata": {
    "collapsed": false
   },
   "outputs": [],
   "source": [
    "auto file = TFile::Open(fileName);"
   ]
  },
  {
   "cell_type": "code",
   "execution_count": null,
   "metadata": {
    "collapsed": false
   },
   "outputs": [],
   "source": [
    "auto w =  (RooWorkspace*) file->Get(workspaceName);\n",
    "w->Print();\n",
    "auto sbModel = (RooStats::ModelConfig*) w->obj(modelConfigName);\n",
    "auto  data = w->data(dataName);\n",
    "auto poi = (RooRealVar*) sbModel->GetParametersOfInterest()->first();"
   ]
  },
  {
   "cell_type": "markdown",
   "metadata": {},
   "source": [
    "##### Make the b Model by cloning the b model and use a value = 0 for the parameter of interest"
   ]
  },
  {
   "cell_type": "code",
   "execution_count": null,
   "metadata": {
    "collapsed": false
   },
   "outputs": [],
   "source": [
    "auto bModel = (RooStats::ModelConfig*) sbModel->Clone();\n",
    "sbModel->SetName(\"S+B Model\");\n",
    "// save previous poi value\n",
    "poiHat = poi->getVal(); \n",
    "poi->setVal(nexp_events);\n",
    "sbModel->SetSnapshot( *poi);\n",
    "bModel->SetName(\"B Model\");\n",
    "poi->setVal(0);\n",
    "bModel->SetSnapshot( *poi  );\n",
    "sbModel->Print();\n",
    "bModel->Print();\n",
    "// restore poi value to best fit value\n",
    "poi->setVal(poiHat);"
   ]
  },
  {
   "cell_type": "markdown",
   "metadata": {},
   "source": [
    "#### 2. Plot of the model pdf and the data \n",
    "\n",
    "we plot the pdf describing the model over the data. Since we have performed before a best fit, the pdf should have the parameters at their best fit values. "
   ]
  },
  {
   "cell_type": "code",
   "execution_count": null,
   "metadata": {
    "collapsed": false
   },
   "outputs": [],
   "source": [
    "plot = w->var(\"x\")->frame();\n",
    "pdf = sbModel->GetPdf();\n",
    "data->plotOn(plot);\n",
    "pdf->plotOn(plot);\n",
    "pdf->plotOn(plot, RooFit::Components(\"bmodel\"),RooFit::LineStyle(kDashed));\n",
    "pdf->plotOn(plot, RooFit::Components(\"smodel\"),RooFit::LineColor(kRed));\n",
    "pdf->paramOn(plot);\n",
    "\n",
    "plot->Draw();\n",
    "gPad->Draw();"
   ]
  },
  {
   "cell_type": "markdown",
   "metadata": {},
   "source": [
    "We assume we know the mass and the width of the peak, so we set it to constant.\n",
    "\n",
    "We could eventually also set to constant the background parameters. In this case the systematic uncertainties due to the background shape will not be taken into account."
   ]
  },
  {
   "cell_type": "code",
   "execution_count": null,
   "metadata": {
    "collapsed": true
   },
   "outputs": [],
   "source": [
    "//w->var(\"a1\")->setConstant(true);\n",
    "//w->var(\"a2\")->setConstant(true);\n",
    "w->var(\"mass\")->setConstant(true);\n",
    "w->var(\"width\")->setConstant(true);"
   ]
  },
  {
   "cell_type": "code",
   "execution_count": null,
   "metadata": {
    "collapsed": false
   },
   "outputs": [],
   "source": [
    "// RooStats::AsymptoticCalculator::SetPrintLevel(-1);  // to switch off print level \n",
    "RooStats::AsymptoticCalculator  asymCalc(*data, *sbModel, *bModel);"
   ]
  },
  {
   "cell_type": "markdown",
   "metadata": {},
   "source": [
    "Configure the calculator"
   ]
  },
  {
   "cell_type": "code",
   "execution_count": null,
   "metadata": {
    "collapsed": true
   },
   "outputs": [],
   "source": [
    "asymCalc.SetOneSidedDiscovery(true);  // for one-side discovery test\n",
    "//asymCalc.SetPrintLevel(-1);  // to suppress print level "
   ]
  },
  {
   "cell_type": "markdown",
   "metadata": {},
   "source": [
    "Run the calculator and get the result"
   ]
  },
  {
   "cell_type": "code",
   "execution_count": null,
   "metadata": {
    "collapsed": false
   },
   "outputs": [],
   "source": [
    "result = asymCalc.GetHypoTest();\n",
    "result->Print();"
   ]
  },
  {
   "cell_type": "code",
   "execution_count": null,
   "metadata": {
    "collapsed": false
   },
   "outputs": [],
   "source": [
    "std::cout << \"Significance = \" << result->Significance() << \" for p-value = \" << result->NullPValue() << std::endl; "
   ]
  },
  {
   "cell_type": "markdown",
   "metadata": {},
   "source": [
    "#### Is Test statistic distribution like a chi-square distribution with n.d.f =1 ? \n",
    "\n",
    "We want to fit the null test statistic distribution to check if it is compatible with a chi2 distribution"
   ]
  },
  {
   "cell_type": "markdown",
   "metadata": {
    "collapsed": false
   },
   "source": [
    "Create the fit function as a 1/2 chisquared. Special case for forst bin (x < 0.05) \n",
    "Also the quantity plotted is the log-likelihood ratio and not 2 x log-likelihood ratio .\n",
    "0.05 is the histogram bin width. "
   ]
  },
  {
   "cell_type": "code",
   "execution_count": null,
   "metadata": {
    "collapsed": false
   },
   "outputs": [],
   "source": [
    "auto fchi2 = new TF1(\"chi2\",\"[](double*x,double*p){ if (x[0] < 0.05) { return 0.5*p[0]+ 0.5*p[0]*ROOT::Math::chisquared_cdf(0.1,p[1]); } else { return 0.05*p[0]*ROOT::Math::chisquared_pdf(x[0],p[1]); } }\",0.,20.,2,1);"
   ]
  },
  {
   "cell_type": "code",
   "execution_count": null,
   "metadata": {
    "collapsed": false
   },
   "outputs": [],
   "source": [
    "fchi2->SetParameters(1,1);\n",
    "fchi2->SetNpx(1000);\n",
    "fchi2->SetLineColor(kRed);\n",
    "fchi2->Draw();\n",
    "fchi2->SetTitle(\"Half-chi2 distribution\");\n",
    "gPad->SetLogy(true);\n",
    "gPad->Draw();"
   ]
  },
  {
   "cell_type": "code",
   "execution_count": null,
   "metadata": {
    "collapsed": false
   },
   "outputs": [],
   "source": [
    "// add data value\n",
    "sqmu = ROOT::Math::normal_quantile_c(result->NullPValue(),1);\n",
    "qmu = sqmu*sqmu; \n",
    "std::cout << \"test statistic data value = \" << qmu << std::endl;\n",
    "dataLine = new TLine(qmu,fchi2->GetMinimum(),qmu,1.);\n",
    "dataLine->SetLineWidth(2);\n",
    "dataLine->Draw();\n",
    "gPad->Draw();"
   ]
  },
  {
   "cell_type": "code",
   "execution_count": null,
   "metadata": {
    "collapsed": true
   },
   "outputs": [],
   "source": []
  }
 ],
 "metadata": {
  "kernelspec": {
   "display_name": "ROOT C++",
   "language": "c++",
   "name": "root"
  },
  "language_info": {
   "codemirror_mode": "text/x-c++src",
   "file_extension": ".C",
   "mimetype": " text/x-c++src",
   "name": "c++"
  }
 },
 "nbformat": 4,
 "nbformat_minor": 0
}
