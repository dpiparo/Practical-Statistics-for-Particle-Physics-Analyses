{
 "cells": [
  {
   "cell_type": "markdown",
   "metadata": {},
   "source": [
    "## $H \\to \\gamma \\gamma$ Fit\n",
    "\n",
    "This is an example of fitting the 2-photon invariant mass to determine the number of Higgs signal events.\n",
    "\n",
    "We have a data set consists of ~ 30000 di-photon invariant mass values from a tetx file (**Hgg.txt**) which should be in the current directory. \n",
    "\n",
    "We perform a binned maximum likelihood fit (for reducing the CPU time) using RooFit.  "
   ]
  },
  {
   "cell_type": "markdown",
   "metadata": {},
   "source": [
    "#### 1. Reading Input data set"
   ]
  },
  {
   "cell_type": "code",
   "execution_count": null,
   "metadata": {
    "collapsed": false
   },
   "outputs": [],
   "source": [
    "TTree tree(\"tree\",\"tree\");\n",
    "int nevt = tree.ReadFile(\"Hgg.txt\",\"x\");\n",
    "if (nevt <= 0) {\n",
    "    Error(\"fitHgg\",\"Error reading data from input file \");\n",
    "}\n",
    "std::cout << \"Read \" << nevt << \" from the file \" << std::endl;"
   ]
  },
  {
   "cell_type": "markdown",
   "metadata": {
    "collapsed": true
   },
   "source": [
    "#### 2. Model creation\n",
    "\n",
    "We make now the RooFit model using the RooWorkspace Factory. We assume a Gaussian distribution for the signal and a double  exponential distribution for the background as following: \n",
    "\n",
    "$$ P(x | \\mu , \\nu ) = n_{sig} \\times G(x | M , \\sigma) + n_{bkg} \\times E(x|a_1,a_2)$$\n",
    "\n",
    "where $G (x | M , \\sigma)$ is the Gaussian distribution for the signal and $E(x|a_1,a_2)$ is the exponential distribution describing the background. \n",
    "\n",
    "$$E(x|a_1,a_2) = \\frac{ e^{( - a1 * x/100 - a2 * (x/100)^2 )}}{\\int e^{-(.....)} dx }$$ "
   ]
  },
  {
   "cell_type": "code",
   "execution_count": null,
   "metadata": {
    "collapsed": false
   },
   "outputs": [],
   "source": [
    "   RooWorkspace w(\"w\");\n",
    "   w.factory(\"x[110,160]\");  // invariant mass\n",
    "   \n",
    "   w.factory(\"nbackground[10000, 0, 10000]\");\n",
    "   //w.factory(\"Exponential::z1(x, a1[-1,-10,0])\");\n",
    "   w.var(\"nbackground\")->setVal(nevt);\n",
    "   w.var(\"nbackground\")->setMin(0.1*nevt);\n",
    "   w.var(\"nbackground\")->setMax(10*nevt);\n",
    "\n",
    "   // create exponential model as two components\n",
    "   w.factory(\"a1[ 7.5, -500, 500]\");\n",
    "   w.factory(\"a2[-1.5, -500, 500]\");\n",
    "   //w.factory(\"cexpr::z('-(a1*x/100. + a2*(x*x/100000.))', a1, a2, x)\");\n",
    "   w.factory(\"expr::z('-(a1*x/100. + a2*(x/100.)^2)', a1, a2, x)\");\n",
    "   w.factory(\"Exponential::bmodel(z, 1)\");\n",
    "\n",
    "   // signal model   \n",
    "   w.factory(\"nsignal[100, 0.0, 1000.0]\");\n",
    "   //w.factory(\"mass[%f, %f, %f]' % (massguess, massmin, massmax))\n",
    "   w.factory(\"mass[130, 110, 150]\");\n",
    "   w.factory(\"width[1, 0.5, 5]\");\n",
    "   w.factory(\"Gaussian::smodel(x, mass, width)\");\n",
    "   RooAbsPdf * smodel = w.pdf(\"smodel\");\n",
    "\n",
    "   w.factory(\"SUM::model(nbackground*bmodel, nsignal*smodel)\");\n",
    "   RooAbsPdf * model = w.pdf(\"model\");\n",
    "   RooRealVar * x = w.var(\"x\");"
   ]
  },
  {
   "cell_type": "code",
   "execution_count": null,
   "metadata": {
    "collapsed": false
   },
   "outputs": [],
   "source": [
    "w.Print();"
   ]
  },
  {
   "cell_type": "markdown",
   "metadata": {},
   "source": [
    "##### Creation of RooFit data set\n",
    "\n",
    "We create now the RooFit data set importing the data from the ROOT tree.\n",
    "We import also the data set in the workspace.\n",
    "We now bin the data in an histogram and we create a RooFit data set from the histogram with 100 bins from 110 to 160. "
   ]
  },
  {
   "cell_type": "code",
   "execution_count": null,
   "metadata": {
    "collapsed": false
   },
   "outputs": [],
   "source": [
    "auto h1 = new TH1D(\"h1\",\"Invariant Mass distribution;Mass;\",100,110,160);\n",
    "tree.Draw(\"x >> h1\");\n",
    "h1->Draw(); gPad->Draw();"
   ]
  },
  {
   "cell_type": "code",
   "execution_count": null,
   "metadata": {
    "collapsed": false
   },
   "outputs": [],
   "source": [
    "RooDataHist data(\"data\",\"data\",*w.var(\"x\"),h1);\n",
    "w.import(data);"
   ]
  },
  {
   "cell_type": "code",
   "execution_count": null,
   "metadata": {
    "collapsed": false
   },
   "outputs": [],
   "source": [
    "RooFitResult * r = nullptr;\n",
    "RooPlot * plot = nullptr;"
   ]
  },
  {
   "cell_type": "code",
   "execution_count": null,
   "metadata": {
    "collapsed": true
   },
   "outputs": [],
   "source": [
    "plot = w.var(\"x\")->frame();\n",
    "data.plotOn(plot);"
   ]
  },
  {
   "cell_type": "code",
   "execution_count": null,
   "metadata": {
    "collapsed": false
   },
   "outputs": [],
   "source": [
    "plot->Draw(); gPad->Draw();"
   ]
  },
  {
   "cell_type": "markdown",
   "metadata": {},
   "source": [
    "### 3 Fit to the data\n",
    "\n",
    "The binned maximum likelihood fit is perfomed using RooFit to the binned data set. \n",
    "Minuit2 is used as minimization engine. Note that we use a special option, RooFit::Offset(true) which subtract from the likelihood an offset to mitigate the numerical precision when computing the negative log-likelihood function."
   ]
  },
  {
   "cell_type": "code",
   "execution_count": null,
   "metadata": {
    "collapsed": false
   },
   "outputs": [],
   "source": [
    "r = model->fitTo(data, RooFit::Minimizer(\"Minuit2\"),RooFit::Save(true), RooFit::Offset(true));"
   ]
  },
  {
   "cell_type": "markdown",
   "metadata": {},
   "source": [
    "#### 4. Plot of the fit result over the data"
   ]
  },
  {
   "cell_type": "code",
   "execution_count": null,
   "metadata": {
    "collapsed": false,
    "scrolled": false
   },
   "outputs": [],
   "source": [
    "\n",
    "model->plotOn(plot);\n",
    "model->plotOn(plot, RooFit::Components(\"bmodel\"),RooFit::LineStyle(kDashed));\n",
    "model->plotOn(plot, RooFit::Components(\"smodel\"),RooFit::LineColor(kRed));\n",
    "model->paramOn(plot);\n",
    "\n",
    "plot->Draw();\n",
    "gPad->Draw();"
   ]
  },
  {
   "cell_type": "markdown",
   "metadata": {},
   "source": [
    "#### 5. Create RooStats model for statistical calculation\n",
    "Before saving the workspace we create the RooStats model config object which is needed for the RooStats tools."
   ]
  },
  {
   "cell_type": "code",
   "execution_count": null,
   "metadata": {
    "collapsed": false
   },
   "outputs": [],
   "source": [
    "RooStats::ModelConfig mc(\"ModelConfig\",&w);\n",
    "mc.SetPdf(*w.pdf(\"model\"));\n",
    "mc.SetParametersOfInterest(*w.var(\"nsignal\"));\n",
    "mc.SetObservables(*w.var(\"x\"));\n",
    "// define set of nuisance parameters\n",
    "w.defineSet(\"nuisParams\",\"a1,a2,nbackground\");\n",
    "\n",
    "mc.SetNuisanceParameters(*w.set(\"nuisParams\"));\n",
    "mc.Print();"
   ]
  },
  {
   "cell_type": "markdown",
   "metadata": {},
   "source": [
    "We want to semplify the H->gg model (for speeding-up ) the RooStats calculations, by assuming that the mass and the sigma of the signal are known and do not vary in the fits. We set them to constant"
   ]
  },
  {
   "cell_type": "code",
   "execution_count": null,
   "metadata": {
    "collapsed": false
   },
   "outputs": [],
   "source": [
    "w.var(\"mass\")->setConstant(true);\n",
    "w.var(\"width\")->setConstant(true);\n",
    "w.import(mc);"
   ]
  },
  {
   "cell_type": "code",
   "execution_count": null,
   "metadata": {
    "collapsed": false
   },
   "outputs": [],
   "source": [
    "w.writeToFile(\"HiggsBinModel.root\",true);\n",
    "w.Print();"
   ]
  },
  {
   "cell_type": "code",
   "execution_count": null,
   "metadata": {
    "collapsed": true
   },
   "outputs": [],
   "source": []
  }
 ],
 "metadata": {
  "kernelspec": {
   "display_name": "ROOT C++",
   "language": "c++",
   "name": "root"
  },
  "language_info": {
   "codemirror_mode": "text/x-c++src",
   "file_extension": ".C",
   "mimetype": " text/x-c++src",
   "name": "c++"
  }
 },
 "nbformat": 4,
 "nbformat_minor": 0
}
