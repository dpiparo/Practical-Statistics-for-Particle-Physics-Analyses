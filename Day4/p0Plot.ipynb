{
 "cells": [
  {
   "cell_type": "markdown",
   "metadata": {},
   "source": [
    "## Plot  Discovery Significance vs Mass\n",
    "\n",
    "This notebook makes a p0 plot a scan of the discovery significance vs mass for the $H \\to \\gamma \\gamma$ example.\n",
    "\n",
    "We are going to fit the observed spectrum for different fixed value of the mass $M$ and keeping also the width of the signal constant.\n",
    "\n",
    "We compute the significance using the asymptotic approximation"
   ]
  },
  {
   "cell_type": "code",
   "execution_count": null,
   "metadata": {
    "collapsed": true
   },
   "outputs": [],
   "source": [
    "%jsroot on"
   ]
  },
  {
   "cell_type": "markdown",
   "metadata": {},
   "source": [
    "#### Set the number of expected events. This is used to compute the expected significance"
   ]
  },
  {
   "cell_type": "code",
   "execution_count": null,
   "metadata": {
    "collapsed": false
   },
   "outputs": [],
   "source": [
    "int nevt_expected = 250; "
   ]
  },
  {
   "cell_type": "markdown",
   "metadata": {},
   "source": [
    "#### Reading input file \n",
    "\n",
    "We read first the file with the workspace and we retrieve the needed objects"
   ]
  },
  {
   "cell_type": "code",
   "execution_count": null,
   "metadata": {
    "collapsed": false
   },
   "outputs": [],
   "source": [
    "// Check if example input file exists\n",
    "TFile *file = TFile::Open(\"HiggsBinModel.root\");\n",
    "\n",
    "// get the workspace out of the file\n",
    "RooWorkspace* w = (RooWorkspace*) file->Get(\"w\");\n",
    "\n",
    "// get the data out of the file\n",
    "RooAbsData* data = w->data(\"data\");\n",
    "\n",
    "// get the modelConfig (S+B) out of the file\n",
    "// and create the B model from the S+B model\n",
    "RooStats::ModelConfig*  sbModel = (RooStats::ModelConfig*) w->obj(\"ModelConfig\");\n",
    "sbModel->SetName(\"S+B Model\");      \n",
    "RooRealVar* poi = (RooRealVar*) sbModel->GetParametersOfInterest()->first();\n",
    "// the workspace contains the number of observed events\n",
    "int nevt_obs = poi->getVal(); \n",
    "poi->setVal(nevt_expected);  // set POI snapshot in S+B model for expected significance\n",
    "sbModel->SetSnapshot(*poi);\n",
    "RooStats::ModelConfig * bModel = (RooStats::ModelConfig*) sbModel->Clone();\n",
    "bModel->SetName(\"B Model\");      \n",
    "poi->setVal(0);\n",
    "bModel->SetSnapshot( *poi  );"
   ]
  },
  {
   "cell_type": "markdown",
   "metadata": {},
   "source": [
    "#### Plot of fit result\n",
    "\n",
    "Before scanning the mass values for the significance, we plot the best fit result "
   ]
  },
  {
   "cell_type": "code",
   "execution_count": null,
   "metadata": {
    "collapsed": false
   },
   "outputs": [],
   "source": [
    "massPlot = w->var(\"x\")->frame();\n",
    "data->plotOn(massPlot);\n",
    "pdf = sbModel->GetPdf();\n",
    "// set in pdf the correct number of observed events from the fit \n",
    "poi->setVal(nevt_obs);\n",
    "pdf->plotOn(massPlot);\n",
    "pdf->plotOn(massPlot, RooFit::Components(\"bmodel\"),RooFit::LineStyle(kDashed));\n",
    "pdf->plotOn(massPlot, RooFit::Components(\"smodel\"),RooFit::LineColor(kRed));\n",
    "pdf->paramOn(massPlot);\n",
    "\n",
    "massPlot->Draw();\n",
    "gPad->Draw();"
   ]
  },
  {
   "cell_type": "code",
   "execution_count": null,
   "metadata": {
    "collapsed": false
   },
   "outputs": [],
   "source": [
    "vector<double> masses;\n",
    "vector<double> p0values;\n",
    "vector<double> p0valuesExpected;\n",
    "double massMin, massMax; "
   ]
  },
  {
   "cell_type": "markdown",
   "metadata": {},
   "source": [
    "###   Loop on the mass values\n",
    "\n",
    "Perform a loop between the given values and perform an asymptotic hypothesis test to compute the p-value at each scanned mass point"
   ]
  },
  {
   "cell_type": "code",
   "execution_count": null,
   "metadata": {
    "collapsed": false
   },
   "outputs": [],
   "source": [
    "massMin = 112;\n",
    "massMax = 158;\n",
    "\n",
    "\n",
    "int npoints = 30;\n",
    "for( double mass=massMin; mass<=massMax; mass += (massMax-massMin)/double(npoints) )\n",
    "  {\n",
    "      \n",
    "      \n",
    "     cout << endl << endl << \"Running for mass: \" << mass << endl << endl;\n",
    "     w->var(\"mass\")->setVal( mass );\n",
    "\n",
    "     RooStats::AsymptoticCalculator ac(*data, *sbModel, *bModel);\n",
    "     ac.SetOneSidedDiscovery(true);  // for one-side discovery test                                      \n",
    "     RooStats::AsymptoticCalculator::SetPrintLevel(-1);\n",
    "\n",
    "\n",
    "     RooStats::HypoTestResult* asymCalcResult = ac.GetHypoTest();\n",
    " \n",
    "     asymCalcResult->Print();\n",
    "     \n",
    "     masses.push_back( mass );\n",
    "     p0values.push_back( asymCalcResult->NullPValue() );\n",
    "  \n",
    "     double expectedP0 = RooStats::AsymptoticCalculator::GetExpectedPValues(  asymCalcResult->NullPValue(),  asymCalcResult->AlternatePValue(), 0, false);\n",
    "     p0valuesExpected.push_back( expectedP0 );\n",
    "     std::cout << \"expected p0 = \" << expectedP0 << std::endl;\n",
    "\n",
    "  }\n"
   ]
  },
  {
   "cell_type": "markdown",
   "metadata": {},
   "source": [
    "Create a plot with the obtained p-values"
   ]
  },
  {
   "cell_type": "code",
   "execution_count": null,
   "metadata": {
    "collapsed": false
   },
   "outputs": [],
   "source": [
    "  TGraph * graph1  = new TGraph(masses.size(),&masses[0],&p0values[0]);\n",
    "  TGraph * graph2  = new TGraph(masses.size(),&masses[0],&p0valuesExpected[0]);\n",
    "\n",
    "  graph1->SetMarkerStyle(20);\n",
    "  graph1->Draw(\"APC\");\n",
    "  graph2->SetLineStyle(2);\n",
    "  graph2->Draw(\"C\");\n",
    "  graph1->GetXaxis()->SetTitle(\"mass\");\n",
    "  graph1->GetYaxis()->SetTitle(\"p0 value\");\n",
    "  graph1->SetTitle(\"Significance vs Mass\");\n",
    "  graph1->SetMinimum(graph2->GetMinimum());\n",
    "  graph1->SetLineColor(kBlue);\n",
    "  graph2->SetLineColor(kRed);\n",
    "\n",
    "  // draw the signma lines\n",
    "  double xmin = graph1->GetXaxis()->GetXmin();\n",
    "  double xmax = graph1->GetXaxis()->GetXmax();\n",
    "  for (int sigma =1; sigma < 5; sigma++)  {\n",
    "      double p =  ROOT::Math::normal_cdf_c(sigma,1);\n",
    "      auto line = new TLine(xmin, p, xmax, p);\n",
    "      line->Draw();\n",
    "      auto stext = new TText(xmax,p,TString::Format(\"%d-sigma\",sigma));\n",
    "      stext->Draw();\n",
    "  }\n",
    "\n",
    "  gPad->SetLogy(true);\n",
    "  graph1->SetMinimum(1.E-5);"
   ]
  },
  {
   "cell_type": "code",
   "execution_count": null,
   "metadata": {
    "collapsed": false
   },
   "outputs": [],
   "source": [
    "gPad->Draw();"
   ]
  },
  {
   "cell_type": "code",
   "execution_count": null,
   "metadata": {
    "collapsed": true
   },
   "outputs": [],
   "source": []
  }
 ],
 "metadata": {
  "kernelspec": {
   "display_name": "ROOT C++",
   "language": "c++",
   "name": "root"
  },
  "language_info": {
   "codemirror_mode": "text/x-c++src",
   "file_extension": ".C",
   "mimetype": " text/x-c++src",
   "name": "c++"
  }
 },
 "nbformat": 4,
 "nbformat_minor": 0
}
