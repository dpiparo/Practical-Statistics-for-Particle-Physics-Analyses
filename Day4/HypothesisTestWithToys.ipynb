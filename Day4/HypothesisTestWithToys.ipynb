{
 "cells": [
  {
   "cell_type": "markdown",
   "metadata": {},
   "source": [
    "## Hypothesis Test Example with Toys\n",
    "\n",
    "\n",
    "This notebook performs an hypothesis test and computes the significance of the test (p-value) using the asympotic approximation of the profile likelihood function.\n",
    "\n",
    "The test statistics for computing the hypothesis test is \n",
    "\n",
    "$$q_\\mu = - 2 \\log \\frac { L( x \\ | \\ \\mu , \\hat{\\hat{\\nu} } ) }{  L( x \\ | \\ \\hat{\\mu} , \\hat{\\nu}  ) } \\  \\  \\ \\mathrm{for} \\  \\  \n",
    "\\hat{\\mu}  >  0$$\n",
    "$$q_\\mu = 0     \\hspace{3cm}     \\ \\mathrm{for} \\  \\  \n",
    "\\hat{\\mu} \\le  0$$\n",
    "\n",
    "Pseudo-experimets are used to obtain the test statistics distribution for the two hypothesis"
   ]
  },
  {
   "cell_type": "code",
   "execution_count": null,
   "metadata": {
    "collapsed": true
   },
   "outputs": [],
   "source": [
    "using namespace RooStats;"
   ]
  },
  {
   "cell_type": "code",
   "execution_count": null,
   "metadata": {
    "collapsed": false
   },
   "outputs": [],
   "source": [
    "HypoTestResult * result = nullptr;\n",
    "ProfileLikelihoodTestStat * testStat = nullptr; \n",
    "ToyMCSampler * toymcs = nullptr; \n",
    "HypoTestPlot * plot = nullptr; \n",
    "// enable use of NLL offset for better minimizations\n",
    "RooStats::UseNLLOffset(true);"
   ]
  },
  {
   "cell_type": "markdown",
   "metadata": {},
   "source": [
    "#### Set the number of expected events used to compute the expected significance"
   ]
  },
  {
   "cell_type": "code",
   "execution_count": null,
   "metadata": {
    "collapsed": false
   },
   "outputs": [],
   "source": [
    "int nexp_events = 250; \n",
    "\n",
    "TString fileName =\"HiggsBinModel.root\";  // for s simplified model\n",
    "//TString fileName =\"HiggsBinModelSimple.root\";  \n",
    "TString workspaceName = \"w\";\n",
    "TString modelConfigName = \"ModelConfig\";\n",
    "TString dataName = \"data\";\n",
    "TString integrationType = \"\";  \n",
    "//ROOT::Math::MinimizerOptions::SetDefaultMinimizer(\"Minuit2\");"
   ]
  },
  {
   "cell_type": "markdown",
   "metadata": {},
   "source": [
    "#### Reading the model (Workspace) from input file\n",
    "\n",
    "First part is just to access the workspace file and retrieve the model and the data "
   ]
  },
  {
   "cell_type": "code",
   "execution_count": null,
   "metadata": {
    "collapsed": false
   },
   "outputs": [],
   "source": [
    "auto file = TFile::Open(fileName);\n",
    "auto w =  (RooWorkspace*) file->Get(workspaceName);\n",
    "w->Print();\n",
    "auto sbModel = (RooStats::ModelConfig*) w->obj(modelConfigName);\n",
    "auto  data = w->data(dataName);\n",
    "auto poi = (RooRealVar*) sbModel->GetParametersOfInterest()->first();"
   ]
  },
  {
   "cell_type": "markdown",
   "metadata": {},
   "source": [
    "##### Make the b Model by cloning the b model and use a value = 0 for the parameter of interest"
   ]
  },
  {
   "cell_type": "code",
   "execution_count": null,
   "metadata": {
    "collapsed": false
   },
   "outputs": [],
   "source": [
    "auto bModel = (RooStats::ModelConfig*) sbModel->Clone();\n",
    "sbModel->SetName(\"S+B Model\");\n",
    "poi->setVal(nexp_events);\n",
    "sbModel->SetSnapshot( *poi);\n",
    "bModel->SetName(\"B Model\");\n",
    "poi->setVal(0);\n",
    "bModel->SetSnapshot( *poi  );\n",
    "sbModel->Print();\n",
    "bModel->Print();"
   ]
  },
  {
   "cell_type": "markdown",
   "metadata": {},
   "source": [
    "We set the mass and the width to constant. \n",
    "We  fix also the background parameters $a_1$ and $a_2$ to speed up  the pseudo-experiment generation."
   ]
  },
  {
   "cell_type": "code",
   "execution_count": null,
   "metadata": {
    "collapsed": true
   },
   "outputs": [],
   "source": [
    "w->var(\"a1\")->setConstant(true);\n",
    "w->var(\"a2\")->setConstant(true);\n",
    "\n",
    "w->var(\"mass\")->setConstant(true);\n",
    "w->var(\"width\")->setConstant(true);"
   ]
  },
  {
   "cell_type": "markdown",
   "metadata": {},
   "source": [
    "### Run Asymptotic calculator to obtain asymptotic significance"
   ]
  },
  {
   "cell_type": "code",
   "execution_count": null,
   "metadata": {
    "collapsed": false
   },
   "outputs": [],
   "source": [
    "RooStats::AsymptoticCalculator::SetPrintLevel(-1);  // to switch off print level \n",
    "RooStats::AsymptoticCalculator  asymCalc(*data, *sbModel, *bModel);"
   ]
  },
  {
   "cell_type": "markdown",
   "metadata": {},
   "source": [
    "Configure the calculator"
   ]
  },
  {
   "cell_type": "code",
   "execution_count": null,
   "metadata": {
    "collapsed": true
   },
   "outputs": [],
   "source": [
    "asymCalc.SetOneSidedDiscovery(true);  // for one-side discovery test\n",
    "asymCalc.SetPrintLevel(-1);  // to suppress print level "
   ]
  },
  {
   "cell_type": "markdown",
   "metadata": {},
   "source": [
    "Run the calculator and get the result"
   ]
  },
  {
   "cell_type": "code",
   "execution_count": null,
   "metadata": {
    "collapsed": false
   },
   "outputs": [],
   "source": [
    "result = asymCalc.GetHypoTest();\n",
    "result->Print();"
   ]
  },
  {
   "cell_type": "code",
   "execution_count": null,
   "metadata": {
    "collapsed": false
   },
   "outputs": [],
   "source": [
    "std::cout << \"Asymptotic significance = \" << result->Significance() << \" for p-value = \" << result->NullPValue() << std::endl; "
   ]
  },
  {
   "cell_type": "markdown",
   "metadata": {
    "collapsed": true
   },
   "source": [
    "### Run the Frequentist Calculator to compute significance using toys\n",
    "\n",
    "We run now on the same model the FrequentistCalculator. The Frequentist Calculator uses the test statistic distributions obtained with pseudo-experiments."
   ]
  },
  {
   "cell_type": "code",
   "execution_count": null,
   "metadata": {
    "collapsed": false
   },
   "outputs": [],
   "source": [
    "RooStats::FrequentistCalculator   fc(*data, *sbModel, *bModel);\n",
    "// to enable Proof\n",
    "RooStats::ProofConfig pc(*w, 0, \"\", kFALSE);"
   ]
  },
  {
   "cell_type": "markdown",
   "metadata": {
    "collapsed": false
   },
   "source": [
    "We configure the Frequentist calculator by specifying the number of toys for the two hypothesis "
   ]
  },
  {
   "cell_type": "markdown",
   "metadata": {
    "collapsed": false
   },
   "source": [
    "We need also to specify the test statistics type. Here are some possible test statistics to use "
   ]
  },
  {
   "cell_type": "code",
   "execution_count": null,
   "metadata": {
    "collapsed": false
   },
   "outputs": [],
   "source": [
    "testStat = new RooStats::ProfileLikelihoodTestStat(*sbModel->GetPdf());\n",
    "// needed for PL test statistics\n",
    "testStat->SetOneSidedDiscovery(true);\n",
    "// to enable debug of fitting toys\n",
    "// ((RooStats::ProfileLikelihoodTestStat *)testStat)->SetPrintLevel(1);"
   ]
  },
  {
   "cell_type": "code",
   "execution_count": null,
   "metadata": {
    "collapsed": false
   },
   "outputs": [],
   "source": [
    "toymcs = (RooStats::ToyMCSampler*)fc.GetTestStatSampler();\n",
    "toymcs->SetTestStatistic(testStat);\n",
    "toymcs->SetGenerateBinned(true);\n",
    "// toymcs->SetProofConfig(&pc);    // to use PROOF "
   ]
  },
  {
   "cell_type": "code",
   "execution_count": null,
   "metadata": {
    "collapsed": false
   },
   "outputs": [],
   "source": [
    "// for number counting experiments (i.e. when we have only one event per toy)\n",
    "// in general shape cases are extended model\n",
    "if (!sbModel->GetPdf()->canBeExtended())\n",
    "    toymcs->SetNEventsPerToy(1);"
   ]
  },
  {
   "cell_type": "markdown",
   "metadata": {},
   "source": [
    "#### Set the number of pseudo-experiments"
   ]
  },
  {
   "cell_type": "code",
   "execution_count": null,
   "metadata": {
    "collapsed": false
   },
   "outputs": [],
   "source": [
    "fc.SetToys(2000,500);    // 2000 for null (B) and 500 for alt (S+B) "
   ]
  },
  {
   "cell_type": "markdown",
   "metadata": {},
   "source": [
    "#### Run now the calculator. \n",
    "\n",
    "It can take some time... be patient "
   ]
  },
  {
   "cell_type": "code",
   "execution_count": null,
   "metadata": {
    "collapsed": false
   },
   "outputs": [],
   "source": [
    "tw = new TStopwatch(); tw->Start(); // to print the time\n",
    "result = fc.GetHypoTest(); \n",
    "result->Print();\n",
    "tw->Print();"
   ]
  },
  {
   "cell_type": "markdown",
   "metadata": {},
   "source": [
    "Plot now the test statistics distributions"
   ]
  },
  {
   "cell_type": "code",
   "execution_count": null,
   "metadata": {
    "collapsed": false
   },
   "outputs": [],
   "source": [
    "plot = new RooStats::HypoTestPlot(*result);\n",
    "plot->SetLogYaxis(true);\n",
    "plot->Draw();\n",
    "gPad->Draw();"
   ]
  },
  {
   "cell_type": "markdown",
   "metadata": {},
   "source": [
    "We save the result in a file. We don;t want to loose the resulting information if we have run toys for some time. "
   ]
  },
  {
   "cell_type": "code",
   "execution_count": null,
   "metadata": {
    "collapsed": false
   },
   "outputs": [],
   "source": [
    "fileOut = TFile::Open(\"HypoTestResult.root\",\"RECREATE\");\n",
    "result->Write();\n",
    "fileOut->Close();"
   ]
  },
  {
   "cell_type": "markdown",
   "metadata": {},
   "source": [
    "#### Is Test statistic distribution like a chi-square distribution with n.d.f =1 ? \n",
    "\n",
    "We want to fit the null test statistic distribution to check if it is compatible with a chi2 distribution"
   ]
  },
  {
   "cell_type": "code",
   "execution_count": null,
   "metadata": {
    "collapsed": false
   },
   "outputs": [],
   "source": [
    "dist = result->GetNullDistribution();\n",
    "vec = dist->GetSamplingDistribution();\n",
    "cout << \"number of null toys = \" << vec.size() << endl;\n",
    "\n",
    "hdist = new TH1D(\"hdist\",\"Test Statistic distribution\",200,0,10);\n",
    "\n",
    "hdist->FillN(vec.size(),vec.data(),nullptr);\n",
    "// merge all underflows (failing fits) in the first bin (bin 0)\n",
    "hdist->SetBinContent(1, hdist->GetBinContent(0)+hdist->GetBinContent(1));"
   ]
  },
  {
   "cell_type": "code",
   "execution_count": null,
   "metadata": {
    "collapsed": true
   },
   "outputs": [],
   "source": [
    "%jsroot off"
   ]
  },
  {
   "cell_type": "markdown",
   "metadata": {
    "collapsed": false
   },
   "source": [
    "Create the fit function as a 1/2 chisquared. Special case for forst bin (x < 0.05) \n",
    "Also the quantity plotted is the log-likelihood ratio and not 2 x log-likelihood ratio .\n",
    "0.05 is the histogram bin width. "
   ]
  },
  {
   "cell_type": "code",
   "execution_count": null,
   "metadata": {
    "collapsed": true
   },
   "outputs": [],
   "source": [
    "fchi2 = new TF1(\"chi2\",\"[](double*x,double*p){ if (x[0] < 0.05) { return 0.5*p[0]+ 0.5*p[0]*ROOT::Math::chisquared_cdf(0.1,p[1]); } else { return 0.05*p[0]*ROOT::Math::chisquared_pdf(2*x[0],p[1]); } }\",0.,10.,2,1);"
   ]
  },
  {
   "cell_type": "code",
   "execution_count": null,
   "metadata": {
    "collapsed": false
   },
   "outputs": [],
   "source": [
    "hdist->Draw();\n",
    "fchi2->SetParameters(vec.size(),1);\n",
    "fchi2->SetNpx(1000);\n",
    "fchi2->SetLineColor(kGreen);\n",
    "fchi2->DrawCopy(\"SAME\");\n",
    "fchi2->SetLineColor(kRed);\n",
    "gPad->Draw();"
   ]
  },
  {
   "cell_type": "code",
   "execution_count": null,
   "metadata": {
    "collapsed": false
   },
   "outputs": [],
   "source": [
    "// do integral fit \n",
    "hdist->Fit(fchi2,\"L I \",\"SAME\");"
   ]
  },
  {
   "cell_type": "code",
   "execution_count": null,
   "metadata": {
    "collapsed": false
   },
   "outputs": [],
   "source": [
    "gStyle->SetOptFit(1111);\n",
    "gPad->Draw();"
   ]
  },
  {
   "cell_type": "code",
   "execution_count": null,
   "metadata": {
    "collapsed": false
   },
   "outputs": [],
   "source": [
    "auto hdist2 = (TH1*) hdist->Clone();\n",
    "hdist2->GetXaxis()->SetRange(1,20);\n",
    "hdist2->Draw();\n",
    "gPad->Draw();"
   ]
  },
  {
   "cell_type": "code",
   "execution_count": null,
   "metadata": {
    "collapsed": true
   },
   "outputs": [],
   "source": []
  }
 ],
 "metadata": {
  "kernelspec": {
   "display_name": "ROOT C++",
   "language": "c++",
   "name": "root"
  },
  "language_info": {
   "codemirror_mode": "text/x-c++src",
   "file_extension": ".C",
   "mimetype": " text/x-c++src",
   "name": "c++"
  }
 },
 "nbformat": 4,
 "nbformat_minor": 0
}
