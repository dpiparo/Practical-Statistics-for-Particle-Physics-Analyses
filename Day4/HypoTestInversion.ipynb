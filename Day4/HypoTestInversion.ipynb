{
 "cells": [
  {
   "cell_type": "markdown",
   "metadata": {},
   "source": [
    "## Frequentist Estimation of Limit/Interval\n",
    "\n",
    "The following example show how to compute a frequentist limit. \n",
    "\n",
    "The limit is computed with a techinique called hypothesis test inversion.\n",
    "An hypothesis test is performed for fixed values of the parameter of interest (e.g. $\\mu$). \n",
    "\n",
    "The test is built with profile log-likelihood ratio as test statistics and using as $H_0$, the null hypothesis, the $S+B$ model vs $H_1$, the B$ only model. \n",
    "\n",
    "For each $\\mu$ value, a p-value, which is the significance $\\alpha$ of the test, is obtained and plotted as function of $\\mu$. \n",
    "\n",
    "The interval at a given confidence level, CL = $1-\\alpha_0$, is then obtained by looking at the values of $\\mu$ which have a p-value equal to $\\alpha_0$.\n",
    "\n",
    "Different type of interval can be computed depending on the test statistics used. \n",
    "\n",
    "-  For upper limit the used test statistics is the one-side profiled likelihood :\n",
    "\n",
    "$$q_\\mu = - 2 \\log \\frac { L( x \\ | \\ \\mu , \\hat{\\hat{\\nu} } ) }{  L( x \\ | \\ \\hat{\\mu} , \\hat{\\nu}  ) } \\  \\  \\ \\mathrm{for} \\  \\  \n",
    "\\hat{\\mu} \\le \\mu_{TEST}$$\n",
    "$$q_\\mu = 0     \\hspace{3cm}     \\ \\mathrm{for} \\  \\  \n",
    "\\hat{\\mu} \\gt \\mu_{TEST}$$\n",
    "\n",
    "   The limit is then computed using the $CL_s$ procedure, i.e. the actual p-value used to build the scan curve is \n",
    "   $$CL_s = \\frac{ CL_{S+B} } {CL_B } $$\n",
    "   \n",
    "- For Feldman-Cousins interval the two-sided profile likelihood is used:    \n",
    "\n",
    "$$q_\\mu = - 2 \\log \\frac { L( x \\ | \\ \\mu , \\hat{\\hat{\\nu} } ) }{  L( x \\ | \\ \\hat{\\mu} , \\hat{\\nu}  ) }$$\n",
    "\n",
    "   for every obtained  $ \\hat{\\mu}$ value.\n",
    "   \n",
    "The code can also compute expected limits using the Asimov data set. \n",
    "\n",
    "At the beginning we compute the limit using the asympotic approximation of the distribution of the profile likelihood test statistics and we don't need to generate pseudo-experiments.  See paper *G. Cowan et al., arXiv:1007.1727,EPJC 71 (2011)* \n",
    "\n",
    "The asymptotic approximation is used only for computing $CL_s$ limits\n",
    "\n",
    "Later we compute the full frequentist limit using pseudo-experiments and profiling nuisance parameter if are present. \n"
   ]
  },
  {
   "cell_type": "code",
   "execution_count": null,
   "metadata": {
    "collapsed": true
   },
   "outputs": [],
   "source": [
    "using namespace RooStats;"
   ]
  },
  {
   "cell_type": "code",
   "execution_count": null,
   "metadata": {
    "collapsed": false
   },
   "outputs": [],
   "source": [
    "HypoTestInverter * calc = nullptr;\n",
    "HypoTestInverterResult * result = nullptr; \n",
    "HypoTestInverterPlot * plot = nullptr; \n",
    "ProfileLikelihoodTestStat * testStat = nullptr; \n",
    "ToyMCSampler * toymcs = nullptr; \n",
    "SamplingDistPlot * distplot = nullptr;\n",
    "TCanvas * c1 = nullptr; \n",
    "TCanvas * c2 = nullptr; "
   ]
  },
  {
   "cell_type": "markdown",
   "metadata": {},
   "source": [
    "#####  Reading the model (Workspace) from input file\n",
    "\n",
    "First part is just to access the workspace file and retrieve the model and the data "
   ]
  },
  {
   "cell_type": "code",
   "execution_count": null,
   "metadata": {
    "collapsed": false
   },
   "outputs": [],
   "source": [
    "TString fileName = \"CountingModelFixedB.root\";\n",
    "TString workspaceName = \"w\";\n",
    "TString modelConfigName = \"ModelConfig\";\n",
    "TString dataName = \"data\";\n",
    "TString integrationType = \"\";  \n",
    "// Use Minuit2 for minimization\n",
    "ROOT::Math::MinimizerOptions::SetDefaultMinimizer(\"Minuit2\");\n",
    "// open the file \n",
    "auto file = TFile::Open(fileName);\n",
    "// read workspace from the file \n",
    "auto w =  (RooWorkspace*) file->Get(workspaceName);\n",
    "w->Print();\n",
    "auto sbModel = (RooStats::ModelConfig*) w->obj(modelConfigName);\n",
    "sbModel->Print();\n",
    "auto  data = w->data(dataName);\n",
    "auto poi = (RooRealVar*) sbModel->GetParametersOfInterest()->first();"
   ]
  },
  {
   "cell_type": "markdown",
   "metadata": {},
   "source": [
    "Print information about the number of events and background (works only in case of the specific counting model)"
   ]
  },
  {
   "cell_type": "code",
   "execution_count": null,
   "metadata": {
    "collapsed": false
   },
   "outputs": [],
   "source": [
    "std::cout << \"number of observed events in the data : \" << std::endl;\n",
    "auto args = data->get(0);\n",
    "if (args) args->Print(\"V\");\n",
    "else  Error(\"BayesianNumerical\",\"Input data does not contain any event\");\n",
    "std::cout << \"number of background events \" << w->var(\"b\")->getVal() << std::endl;"
   ]
  },
  {
   "cell_type": "markdown",
   "metadata": {},
   "source": [
    "##### Make the b Model by cloning the b model and use a value = 0 for the parameter of interest"
   ]
  },
  {
   "cell_type": "code",
   "execution_count": null,
   "metadata": {
    "collapsed": false
   },
   "outputs": [],
   "source": [
    "sbModel->SetName(\"S+B Model\");\n",
    "auto bModel = (RooStats::ModelConfig*) sbModel->Clone(\"B Model\");\n",
    "poi->setVal(0);\n",
    "bModel->SetSnapshot( *poi  );\n",
    "sbModel->GetSnapshot()->Print(\"V\");"
   ]
  },
  {
   "cell_type": "markdown",
   "metadata": {},
   "source": [
    "###  Computation using Asymptotic formula\n",
    "\n",
    "#### we create first the hypothesis test calculator: the `AsymptoticCalculator`\n",
    " \n",
    "Note that in this case the NULL model is the S+B model. "
   ]
  },
  {
   "cell_type": "code",
   "execution_count": null,
   "metadata": {
    "collapsed": false
   },
   "outputs": [],
   "source": [
    "// RooStats::AsymptoticCalculator::SetPrintLevel(-1);  // to switch off print level \n",
    "RooStats::AsymptoticCalculator  asymCalc(*data, *bModel, *sbModel);"
   ]
  },
  {
   "cell_type": "code",
   "execution_count": null,
   "metadata": {
    "collapsed": true
   },
   "outputs": [],
   "source": [
    "asymCalc.SetOneSided(true);  // for one-side test (compute a limit)\n",
    "//asymCalc.SetPrintLevel(-1);  // to suppress print level "
   ]
  },
  {
   "cell_type": "markdown",
   "metadata": {},
   "source": [
    "####  Create the HypoTestInverter calculator and configure it "
   ]
  },
  {
   "cell_type": "code",
   "execution_count": null,
   "metadata": {
    "collapsed": false
   },
   "outputs": [],
   "source": [
    "calc = new RooStats::HypoTestInverter(asymCalc); "
   ]
  },
  {
   "cell_type": "markdown",
   "metadata": {},
   "source": [
    "Configure the calculator"
   ]
  },
  {
   "cell_type": "code",
   "execution_count": null,
   "metadata": {
    "collapsed": false
   },
   "outputs": [],
   "source": [
    "calc->SetConfidenceLevel(0.90);\n",
    "calc->UseCLs(true); \n",
    "calc->SetVerbose(false);\n",
    "\n",
    "calc->SetFixedScan(10,0.0,6.0); // set number of points , xmin and xmax \n",
    "\n",
    "asymCalc.SetOneSided(true);  // for one-side test (compute a limit)\n",
    "asymCalc.SetPrintLevel(-1); "
   ]
  },
  {
   "cell_type": "markdown",
   "metadata": {},
   "source": [
    "#### Run now the calculator to compute the interval "
   ]
  },
  {
   "cell_type": "code",
   "execution_count": null,
   "metadata": {
    "collapsed": false
   },
   "outputs": [],
   "source": [
    "result = calc->GetInterval();"
   ]
  },
  {
   "cell_type": "code",
   "execution_count": null,
   "metadata": {
    "collapsed": false
   },
   "outputs": [],
   "source": [
    "cout << 100*calc->ConfidenceLevel() << \"% interval is : [\"<< result->LowerLimit() << \", \"<< result->UpperLimit() <<\"] \"<<endl;\n",
    "\n",
    "std::cout << \"The computed upper limit is: \" << result->UpperLimit() << std::endl;\n",
    "  \n",
    "  // compute expected limit\n",
    "  std::cout << \"Expected upper limits, using the B (alternate) model : \" << std::endl;\n",
    "  std::cout << \" expected limit (median) \" << result->GetExpectedUpperLimit(0) << std::endl;\n",
    "  std::cout << \" expected limit (-1 sig) \" << result->GetExpectedUpperLimit(-1) << std::endl;\n",
    "  std::cout << \" expected limit (+1 sig) \" << result->GetExpectedUpperLimit(1) << std::endl;\n",
    "  std::cout << \" expected limit (-2 sig) \" << result->GetExpectedUpperLimit(-2) << std::endl;\n",
    "  std::cout << \" expected limit (+2 sig) \" << result->GetExpectedUpperLimit(2) << std::endl;"
   ]
  },
  {
   "cell_type": "markdown",
   "metadata": {},
   "source": [
    "#### Plot now the result of the scan of the hypothesis tests"
   ]
  },
  {
   "cell_type": "code",
   "execution_count": null,
   "metadata": {
    "collapsed": false
   },
   "outputs": [],
   "source": [
    "plot = new RooStats::HypoTestInverterPlot(\"HTI_Result_Plot\",\"HypoTest Scan Result\",result);\n",
    "plot->Draw(\"CLb 2CL\");  // plot also CLb and CLs+b \n",
    "gPad->Draw();"
   ]
  },
  {
   "cell_type": "markdown",
   "metadata": {
    "collapsed": true
   },
   "source": [
    "### Frequentist Calculator\n",
    "\n",
    "We run now on the same model the FrequentistCalculator. The Frequentist Calculator uses the test statistic distributions obtained with pseudo-experiments."
   ]
  },
  {
   "cell_type": "markdown",
   "metadata": {},
   "source": [
    "#### Set the type of limit: CLs or FC ? "
   ]
  },
  {
   "cell_type": "code",
   "execution_count": null,
   "metadata": {
    "collapsed": false
   },
   "outputs": [],
   "source": [
    "bool useCLs = true; "
   ]
  },
  {
   "cell_type": "code",
   "execution_count": null,
   "metadata": {
    "collapsed": false
   },
   "outputs": [],
   "source": [
    "RooStats::FrequentistCalculator   fc(*data, *bModel, *sbModel);"
   ]
  },
  {
   "cell_type": "markdown",
   "metadata": {
    "collapsed": false
   },
   "source": [
    "We need also to specify the test statistics type. Here are some possible test statistics to use "
   ]
  },
  {
   "cell_type": "code",
   "execution_count": null,
   "metadata": {
    "collapsed": false
   },
   "outputs": [],
   "source": [
    "testStat = new RooStats::ProfileLikelihoodTestStat(*sbModel->GetPdf());"
   ]
  },
  {
   "cell_type": "code",
   "execution_count": null,
   "metadata": {
    "collapsed": false
   },
   "outputs": [],
   "source": [
    "toymcs = (RooStats::ToyMCSampler*)fc.GetTestStatSampler();\n",
    "toymcs->SetTestStatistic(testStat);"
   ]
  },
  {
   "cell_type": "code",
   "execution_count": null,
   "metadata": {
    "collapsed": false
   },
   "outputs": [],
   "source": [
    "// for number counting experiments (i.e. when we have only one event per toy)\n",
    "// in general shape cases are extended model\n",
    "if (!sbModel->GetPdf()->canBeExtended())\n",
    "    toymcs->SetNEventsPerToy(1);"
   ]
  },
  {
   "cell_type": "markdown",
   "metadata": {},
   "source": [
    "We create and configure the RooStats calculators to compute the frequentist interval using the inversion of the hypothesis test"
   ]
  },
  {
   "cell_type": "code",
   "execution_count": null,
   "metadata": {
    "collapsed": false
   },
   "outputs": [],
   "source": [
    "calc = new RooStats::HypoTestInverter(fc);"
   ]
  },
  {
   "cell_type": "markdown",
   "metadata": {},
   "source": [
    "#### Configure the Calculator\n",
    "\n",
    "We can configure the calculator to compute CLs limits or Feldman-Cousins intervals.\n",
    "These first lines are for CLs limits."
   ]
  },
  {
   "cell_type": "code",
   "execution_count": null,
   "metadata": {
    "collapsed": false
   },
   "outputs": [],
   "source": [
    "// for CLS\n",
    "if (useCLs) {\n",
    "    calc->UseCLs(true);\n",
    "    testStat->SetOneSided(true);\n",
    "}"
   ]
  },
  {
   "cell_type": "markdown",
   "metadata": {},
   "source": [
    "These are for Feldman-Cousins intervals. Uncomment the lines if you want to compute them "
   ]
  },
  {
   "cell_type": "code",
   "execution_count": null,
   "metadata": {
    "collapsed": false
   },
   "outputs": [],
   "source": [
    "// uncomment these lines for Feldman Cousins intervals\n",
    "if (!useCLs) {\n",
    "  calc->Clear();\n",
    "  calc->UseCLs(false);\n",
    "  testStat->SetOneSided(false);\n",
    "}"
   ]
  },
  {
   "cell_type": "markdown",
   "metadata": {
    "collapsed": false
   },
   "source": [
    "We configure the Frequentist calculator by specifying the number of toys for the two hypothesis "
   ]
  },
  {
   "cell_type": "code",
   "execution_count": null,
   "metadata": {
    "collapsed": true
   },
   "outputs": [],
   "source": [
    "fc.SetToys(1000,1000);    // 1000 for null (S+B) and 500 for alt (B) "
   ]
  },
  {
   "cell_type": "markdown",
   "metadata": {},
   "source": [
    "#### Run the toys to compute the test statistic distributions\n",
    "\n",
    "Run now the calculator. We configure also the CL level and the range and number of points to scan. \n",
    "It can take some time... be patient "
   ]
  },
  {
   "cell_type": "code",
   "execution_count": null,
   "metadata": {
    "collapsed": false,
    "scrolled": true
   },
   "outputs": [],
   "source": [
    "calc->Clear(); // needed if running a second time\n",
    "calc->SetConfidenceLevel(0.90);  \n",
    "calc->SetFixedScan(10,0.1,5.1); // set number of points , xmin and xmax \n",
    "result = calc->GetInterval();"
   ]
  },
  {
   "cell_type": "markdown",
   "metadata": {},
   "source": [
    "#### Examine the result\n",
    "\n",
    "We examine now the result of the calculator. \n",
    "From the scan we can also compute in addition to the observed interval limits, also the expected values (median and +/- 1,2 sigma), which are computed using the same pseudo-experiments used to compute the observed limits. "
   ]
  },
  {
   "cell_type": "code",
   "execution_count": null,
   "metadata": {
    "collapsed": false
   },
   "outputs": [],
   "source": [
    "cout << 100*calc->ConfidenceLevel() << \"% interval is : [\"<< result->LowerLimit() << \", \"<< result->UpperLimit() <<\"] \"<<endl;\n",
    "\n",
    "std::cout << \"The computed upper limit is: \" << result->UpperLimit() << std::endl;\n",
    "  \n",
    "  // compute expected limit\n",
    "  std::cout << \"Expected upper limits, using the B (alternate) model : \" << std::endl;\n",
    "  std::cout << \" expected limit (median) \" << result->GetExpectedUpperLimit(0) << std::endl;\n",
    "  std::cout << \" expected limit (-1 sig) \" << result->GetExpectedUpperLimit(-1) << std::endl;\n",
    "  std::cout << \" expected limit (+1 sig) \" << result->GetExpectedUpperLimit(1) << std::endl;\n",
    "  std::cout << \" expected limit (-2 sig) \" << result->GetExpectedUpperLimit(-2) << std::endl;\n",
    "  std::cout << \" expected limit (+2 sig) \" << result->GetExpectedUpperLimit(2) << std::endl;"
   ]
  },
  {
   "cell_type": "markdown",
   "metadata": {},
   "source": [
    "#### Plot Result of Scan"
   ]
  },
  {
   "cell_type": "code",
   "execution_count": null,
   "metadata": {
    "collapsed": false
   },
   "outputs": [],
   "source": [
    "c1 = new TCanvas(\"c1\",\"HypoTest Scan Result\");\n",
    "plot = new RooStats::HypoTestInverterPlot(\"HTI_Result_Plot\",\"HypoTest Scan Result\",result);\n",
    "if (useCLs) \n",
    " plot->Draw(\"CLb 2CL\");  // plot also CLb and CLs+b \n",
    "else \n",
    " plot->Draw(\"OBS\");  // draw only the observed value   \n",
    "     \n",
    "c1->SetLogy(0);\n",
    "c1->Draw();"
   ]
  },
  {
   "cell_type": "markdown",
   "metadata": {},
   "source": [
    "#### Plot Result of Test Statistic Distribution\n",
    "\n",
    "Plot now the test statistics distributions for some of the scanned points"
   ]
  },
  {
   "cell_type": "code",
   "execution_count": null,
   "metadata": {
    "collapsed": true
   },
   "outputs": [],
   "source": [
    "//%jsroot on"
   ]
  },
  {
   "cell_type": "code",
   "execution_count": null,
   "metadata": {
    "collapsed": false
   },
   "outputs": [],
   "source": [
    "c2 = new TCanvas(\"c2\",\"Test Statistic Distributions\",1000,800);\n",
    "c2->Divide(2,2);\n",
    "for (int i = 1; i/2 < 5 && i < result->ArraySize(); i+=2){\n",
    "    c2->cd(i/2+1);\n",
    "    distplot = plot->MakeTestStatPlot(i);\n",
    "    distplot->SetLogYaxis(true);\n",
    "    distplot->Draw();\n",
    "    text = new TText(.6,.6,TString::Format(\"%s = %f\",poi->GetName(),result->GetXValue(i)));\n",
    "    text->SetNDC();\n",
    "    text->Draw();    \n",
    "}\n",
    "c2->Draw();"
   ]
  },
  {
   "cell_type": "code",
   "execution_count": null,
   "metadata": {
    "collapsed": false
   },
   "outputs": [],
   "source": []
  }
 ],
 "metadata": {
  "kernelspec": {
   "display_name": "ROOT C++",
   "language": "c++",
   "name": "root"
  },
  "language_info": {
   "codemirror_mode": "text/x-c++src",
   "file_extension": ".C",
   "mimetype": " text/x-c++src",
   "name": "c++"
  }
 },
 "nbformat": 4,
 "nbformat_minor": 0
}
